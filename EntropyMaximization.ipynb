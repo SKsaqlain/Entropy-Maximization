{
  "nbformat": 4,
  "nbformat_minor": 0,
  "metadata": {
    "colab": {
      "name": "EntropyMaximization.ipynb",
      "provenance": [],
      "collapsed_sections": []
    },
    "kernelspec": {
      "name": "python3",
      "display_name": "Python 3"
    },
    "language_info": {
      "name": "python"
    }
  },
  "cells": [
    {
      "cell_type": "markdown",
      "source": [
        "#Problem Statement\n",
        "#####How will you impute data from a finite multiple set of samples such that the resultant distribution of the population has minimum bias or is unbiased. "
      ],
      "metadata": {
        "id": "4mdgu6YERQtY"
      }
    },
    {
      "cell_type": "markdown",
      "source": [
        "##Analysis\n",
        "###-Entropy maximization\n",
        "####What is Entropy? \n",
        "Entropy tells us how impure our data is, basically how hetrogenous our data is.<br/>\n",
        "####How does the entropy look like when compared between uniform,normal and non-uniform/biased distribution?\n",
        "For a biased distribution since the data is clustered on either side of the median , basically indicates that the data is non-hetrogenous in nature and requiring minimum number of bits to encode it.<br/>\n",
        "For a data belonging to a uniform distribution , the data is spread evenly throughout thus requiring more number of bits to encode each unique data.<br/>\n",
        "On comparing the entropy values of both it could be found that the entropy for the uniform distribution is higher than biased or the normal one. "
      ],
      "metadata": {
        "id": "lOTFK9lwRgE-"
      }
    },
    {
      "cell_type": "code",
      "source": [
        "import numpy as np\n",
        "import math\n",
        "import random\n",
        "import sys\n",
        "import scipy.stats\n",
        "import matplotlib.pyplot as plt"
      ],
      "metadata": {
        "id": "Fcm0YlNmU8uD"
      },
      "execution_count": 1,
      "outputs": []
    },
    {
      "cell_type": "code",
      "source": [
        "\n",
        "def getEntropy(distribution):\n",
        "    pk=dict()\n",
        "    for ele in list(set(distribution)):\n",
        "        pk[ele]=distribution.count(ele)/len(distribution)\n",
        "    return scipy.stats.entropy(list(pk.values()))"
      ],
      "metadata": {
        "id": "pLblqcvpZuAx"
      },
      "execution_count": null,
      "outputs": []
    },
    {
      "cell_type": "code",
      "source": [
        "#Picking data from triangle distribution.\n",
        "def triangle(upper_bound):\n",
        "    return int(random.triangular(0.0, float(upper_bound + 1) - sys.float_info.epsilon, 0.0))\n",
        "biasedDistribution=[triangle(100) for _ in range(1000)]\n",
        "plt.hist(biasedDistribution)\n",
        "plt.show()\n",
        "print(\"Entropy for biased distribution \", getEntropy(biasedDistribution))"
      ],
      "metadata": {
        "colab": {
          "base_uri": "https://localhost:8080/",
          "height": 283
        },
        "id": "G2ifVmsTZw-E",
        "outputId": "87672aa6-2cd9-4af6-e216-2e75bfce04cc"
      },
      "execution_count": null,
      "outputs": [
        {
          "output_type": "display_data",
          "data": {
            "image/png": "[encoded data removed]",
            "text/plain": [
              "<Figure size 432x288 with 1 Axes>"
            ]
          },
          "metadata": {
            "needs_background": "light"
          }
        },
        {
          "output_type": "stream",
          "name": "stdout",
          "text": [
            "Entropy for biased distribution  4.366146802185722\n"
          ]
        }
      ]
    },
    {
      "cell_type": "code",
      "source": [
        "#picking data from normal distribution\n",
        "normalDistribution=np.random.normal(50,16,1000)\n",
        "normalDistribution=[math.floor(ele) for ele in normalDistribution]\n",
        "plt.hist(normalDistribution)\n",
        "plt.show()\n",
        "print(\"Entropy for normal Distribution \",getEntropy(normalDistribution))"
      ],
      "metadata": {
        "colab": {
          "base_uri": "https://localhost:8080/",
          "height": 283
        },
        "id": "SWK5tBe8buiS",
        "outputId": "fedd35ba-6bc9-49e6-f792-e368a33ffa0f"
      },
      "execution_count": null,
      "outputs": [
        {
          "output_type": "display_data",
          "data": {
            "image/png": "[encoded data removed]",
            "text/plain": [
              "<Figure size 432x288 with 1 Axes>"
            ]
          },
          "metadata": {
            "needs_background": "light"
          }
        },
        {
          "output_type": "stream",
          "name": "stdout",
          "text": [
            "Entropy for normal Distribution  4.145544417259157\n"
          ]
        }
      ]
    },
    {
      "cell_type": "code",
      "source": [
        "#picking data from a uniform distribution\n",
        "uniformDistribution=np.random.uniform(0,100,1000)\n",
        "plt.hist(uniformDistribution)\n",
        "plt.show()\n",
        "print(\"Entropy for uniform distribution \",getEntropy(list(uniformDistribution)))"
      ],
      "metadata": {
        "colab": {
          "base_uri": "https://localhost:8080/",
          "height": 283
        },
        "id": "tfHauG1_ceuz",
        "outputId": "a8d60ef9-02e4-4cdc-9ca3-cfb00abeaa24"
      },
      "execution_count": null,
      "outputs": [
        {
          "output_type": "display_data",
          "data": {
            "image/png": "[encoded data removed]",
            "text/plain": [
              "<Figure size 432x288 with 1 Axes>"
            ]
          },
          "metadata": {
            "needs_background": "light"
          }
        },
        {
          "output_type": "stream",
          "name": "stdout",
          "text": [
            "Entropy for uniform distribution  6.907755278982134\n"
          ]
        }
      ]
    },
    {
      "cell_type": "markdown",
      "source": [
        "#Proposed Solution "
      ],
      "metadata": {
        "id": "5Pv3rcxKkmO5"
      }
    },
    {
      "cell_type": "code",
      "source": [
        "from math import log2\n",
        "def getEntropy(distribution):\n",
        "    n=len(distribution)\n",
        "    freqList={ele:distribution.count(ele) for ele in list(set(distribution))}.values()\n",
        "    entropy=-sum((freq/n)*log2(freq/n) for freq in freqList)\n",
        "    return entropy\n",
        "def getEntropyAfterAddition(currentDistribution,newEntry):\n",
        "    currentDistribution.append(newEntry)\n",
        "    return getEntropy(currentDistribution)\n",
        "\n",
        "def maximizeEntropy(currentDistribution,cluster):\n",
        "    entropy=dict()\n",
        "    cluster=list(set(cluster))\n",
        "    for ele in cluster:\n",
        "        entropy[ele]=getEntropyAfterAddition(currentDistribution.copy(),ele)\n",
        "    numberWithMaxEntropy=max(entropy,key=entropy.get)\n",
        "    currentDistribution.append(numberWithMaxEntropy)\n",
        "    return [currentDistribution,numberWithMaxEntropy,entropy]\n",
        "    \n"
      ],
      "metadata": {
        "id": "s2S3lTatg9BC"
      },
      "execution_count": 6,
      "outputs": []
    },
    {
      "cell_type": "code",
      "source": [
        "import numpy as np\n",
        "import random\n",
        "import matplotlib.pyplot as plt\n",
        "import scipy.stats as stats\n",
        "randomSample=[random.randrange(1,100) for _ in range(5000)]\n",
        "z=(randomSample-np.mean(randomSample))/np.std(randomSample)\n",
        "stats.probplot(z,dist=\"norm\",plot=plt)\n",
        "plt.title(\"Random Sample Q-Q plot\")\n",
        "plt.show()"
      ],
      "metadata": {
        "colab": {
          "base_uri": "https://localhost:8080/",
          "height": 295
        },
        "id": "3ciVhpY0oZNE",
        "outputId": "06d2c86f-1f98-4ccf-a921-f33ce28dce3f"
      },
      "execution_count": null,
      "outputs": [
        {
          "output_type": "display_data",
          "data": {
            "image/png": "[encoded data removed]",
            "text/plain": [
              "<Figure size 432x288 with 1 Axes>"
            ]
          },
          "metadata": {
            "needs_background": "light"
          }
        }
      ]
    },
    {
      "cell_type": "code",
      "source": [
        "#Sample created using entropy maximization technique\n",
        "entropySample=[1]\n",
        "print(\"random Sample  length\", len(randomSample))\n",
        "print(\"entropy derived sample lenght\",len(entropySample))"
      ],
      "metadata": {
        "colab": {
          "base_uri": "https://localhost:8080/"
        },
        "id": "GWDKvFj5oddC",
        "outputId": "f990bc07-533f-4110-a6cb-5cf644d12535"
      },
      "execution_count": null,
      "outputs": [
        {
          "output_type": "stream",
          "name": "stdout",
          "text": [
            "random Sample  length 5000\n",
            "entropy derived sample lenght 1\n"
          ]
        }
      ]
    },
    {
      "cell_type": "code",
      "source": [
        "\n",
        "for _ in range(5000):\n",
        "    # Finite sample clusters from which data will be picked for imputation.\n",
        "    randomCluster=[random.randrange(1,100) for _ in range(10)]\n",
        "    #Using entropy maximization for picking the best data point.\n",
        "    entropySample,newEntry,entropy=maximizeEntropy(entropySample.copy(),randomCluster.copy())"
      ],
      "metadata": {
        "id": "46FTB7W7cIzf"
      },
      "execution_count": null,
      "outputs": []
    },
    {
      "cell_type": "code",
      "source": [
        "print(\"entropy of original population \",getEntropy(randomSample))\n",
        "print(\"entropy after maximizationAlteration\",getEntropy(entropySample))"
      ],
      "metadata": {
        "colab": {
          "base_uri": "https://localhost:8080/"
        },
        "id": "4umeETTBcK5Q",
        "outputId": "b3483cdf-36d4-4556-9e03-c61b4fa06a4b"
      },
      "execution_count": null,
      "outputs": [
        {
          "output_type": "stream",
          "name": "stdout",
          "text": [
            "entropy of original population  6.613962059874371\n",
            "entropy after maximizationAlteration 6.629285998700327\n"
          ]
        }
      ]
    },
    {
      "cell_type": "code",
      "source": [
        "z=(entropySample-np.mean(entropySample))/np.std(entropySample)\n",
        "stats.probplot(z,dist=\"norm\",plot=plt)\n",
        "plt.title(\"Sample obtained using Entropy maximization Q-Q plot\")\n",
        "plt.show()"
      ],
      "metadata": {
        "colab": {
          "base_uri": "https://localhost:8080/",
          "height": 295
        },
        "id": "wHjpfzwHcNjb",
        "outputId": "5a4faefa-3d34-44ef-ebff-58b77c89b14a"
      },
      "execution_count": null,
      "outputs": [
        {
          "output_type": "display_data",
          "data": {
            "image/png": "[encoded data removed]",
            "text/plain": [
              "<Figure size 432x288 with 1 Axes>"
            ]
          },
          "metadata": {
            "needs_background": "light"
          }
        }
      ]
    },
    {
      "cell_type": "code",
      "source": [
        "plt.hist(randomSample)\n",
        "plt.xlabel(\"Sample\")\n",
        "plt.ylabel(\"Frequency\")\n",
        "plt.title(\"Histogram of random Sample\")"
      ],
      "metadata": {
        "colab": {
          "base_uri": "https://localhost:8080/",
          "height": 313
        },
        "id": "T65TCk3zcPeT",
        "outputId": "7c9b9490-229d-4a6c-a6aa-f251b7a84c3f"
      },
      "execution_count": null,
      "outputs": [
        {
          "output_type": "execute_result",
          "data": {
            "text/plain": [
              "Text(0.5, 1.0, 'Histogram of random Sample')"
            ]
          },
          "metadata": {},
          "execution_count": 23
        },
        {
          "output_type": "display_data",
          "data": {
            "image/png": "[encoded data removed]",
            "text/plain": [
              "<Figure size 432x288 with 1 Axes>"
            ]
          },
          "metadata": {
            "needs_background": "light"
          }
        }
      ]
    },
    {
      "cell_type": "code",
      "source": [
        "plt.hist(entropySample)\n",
        "plt.xlabel(\"Sample\")\n",
        "plt.ylabel(\"Frequency\")\n",
        "plt.title(\"Histogram of Sample obrained using entropy maximization\")"
      ],
      "metadata": {
        "colab": {
          "base_uri": "https://localhost:8080/",
          "height": 313
        },
        "id": "z6TzPTnRcRWe",
        "outputId": "740c11b2-7b36-4629-f1d9-80310c867901"
      },
      "execution_count": null,
      "outputs": [
        {
          "output_type": "execute_result",
          "data": {
            "text/plain": [
              "Text(0.5, 1.0, 'Histogram of Sample obrained using entropy maximization')"
            ]
          },
          "metadata": {},
          "execution_count": 24
        },
        {
          "output_type": "display_data",
          "data": {
            "image/png": "[encoded data removed]",
            "text/plain": [
              "<Figure size 432x288 with 1 Axes>"
            ]
          },
          "metadata": {
            "needs_background": "light"
          }
        }
      ]
    },
    {
      "cell_type": "code",
      "source": [
        "import statistics\n",
        "\n",
        "print(\"entropy of population obtained from random imputation =\",getEntropy(randomSample))\n",
        "print(\"entropy of population obtained from entropy maximization\",getEntropy(entropySample))"
      ],
      "metadata": {
        "colab": {
          "base_uri": "https://localhost:8080/"
        },
        "id": "g6AmsOXtcTn6",
        "outputId": "3375e7bb-bf23-4a92-f55e-c54856ec10e5"
      },
      "execution_count": null,
      "outputs": [
        {
          "output_type": "stream",
          "name": "stdout",
          "text": [
            "entropy of population obtained from random imputation = 6.613962059874371\n",
            "entropy of population obtained from entropy maximization 6.629285998700327\n"
          ]
        }
      ]
    },
    {
      "cell_type": "markdown",
      "source": [
        "##Entropy Maximization\n",
        "Instead of picking the data at random from a sample for imputation, if we choose the data-point which maximizes the resultant entropy of the distribution post its addition, this would result in a final distribution which has minimal bias.\n",
        "<br/>\n",
        "It could be observerd from the above two distributions that even if we impute the data at random for a very large population size then it results in a distribution which is multimodal in nature which inturn indicates that there is no guarantee that the resultant populatioin will be bias free.\n",
        "<br/>\n",
        "Thus entropy maximization is the best of two words , it not only ensures that the resultant distribution is bias free , but is also uniform in nature.\n"
      ],
      "metadata": {
        "id": "kr14C4L7d7eQ"
      }
    },
    {
      "cell_type": "code",
      "source": [
        "# Hypothetical ideal sample where there are equal number of [1,100]\n",
        "#Total sample size is 5000, unique data points are 1-100\n",
        "unbiasedSample=list()\n",
        "for i in range(1,101):\n",
        "    unbiasedSample.extend([i]*(5000//100))\n",
        "\n",
        "plt.hist(unbiasedSample)\n",
        "plt.xlabel(\"Sample\")\n",
        "plt.ylabel(\"Frequency\")\n",
        "plt.title(\"Histogram of hypothetical unbiased sample where distribution of data point are equal\")\n",
        "plt.show()\n",
        "print(\"entropy of population obtained from entropy maximization\",getEntropy(unbiasedSample))"
      ],
      "metadata": {
        "id": "2_xX0jN4uaTb",
        "colab": {
          "base_uri": "https://localhost:8080/",
          "height": 313
        },
        "outputId": "9f5440b5-5f5d-4daa-d7e2-ee908bd3bce3"
      },
      "execution_count": 7,
      "outputs": [
        {
          "output_type": "display_data",
          "data": {
            "image/png": "[encoded data removed]",
            "text/plain": [
              "<Figure size 432x288 with 1 Axes>"
            ]
          },
          "metadata": {
            "needs_background": "light"
          }
        },
        {
          "output_type": "stream",
          "name": "stdout",
          "text": [
            "entropy of population obtained from entropy maximization 6.6438561897747395\n"
          ]
        }
      ]
    },
    {
      "cell_type": "markdown",
      "source": [
        "## As it can be observed from the above distribution that the entropy of the distribution obtained from entropy-maximization technique is as close as the hypothetical unbiased data."
      ],
      "metadata": {
        "id": "G8F_GbwCKnYh"
      }
    },
    {
      "cell_type": "code",
      "source": [
        ""
      ],
      "metadata": {
        "id": "CcxFcaBwLU3X"
      },
      "execution_count": null,
      "outputs": []
    }
  ]
}